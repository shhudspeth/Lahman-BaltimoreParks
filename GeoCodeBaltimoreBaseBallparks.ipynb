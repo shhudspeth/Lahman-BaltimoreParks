{
 "cells": [
  {
   "cell_type": "code",
   "execution_count": 59,
   "metadata": {},
   "outputs": [],
   "source": [
    "import  geocoder \n",
    "from shapely.geometry import Point\n",
    "from geopandas import GeoDataFrame\n",
    "from geojson import Feature, FeatureCollection\n",
    "from geojsonio import display\n",
    "import pandas as pd\n",
    "\n",
    "parks = pd.read_csv(\"core/Parks.csv\")\n",
    "\n",
    "parks_key = [x[0:3] for x in parks['park.key']]\n",
    "parks['p_key'] = parks_key\n",
    "\n",
    "bal_parks = parks[parks['p_key']==\"BAL\"].reset_index()\n",
    "# print(bal_parks)\n",
    "\n",
    "addresses = ['2501 Madison Ave',\"617 Baker St\", 'E 25th St & Greenmount Ave', \n",
    "             \"414 Old Town Mall\",\"414 Old Town Mall\", \"2900 Greenmount Ave\", \"324 E 25th St\", \"2900 Greenmount Ave\", \"2900 Greenmount Ave\", \n",
    "             \"E 33rd Street\", '333 W Camden St, Baltimore, MD 21201']\n",
    "\n",
    "bal_parks['addresses'] = addresses\n",
    "\n",
    "\n",
    "address_of_parks = bal_parks['addresses'] + \" \" + bal_parks['city']+ \" \" +bal_parks['state'] + \" \"\n",
    "\n",
    "long_parks= address_of_parks.apply(geocoder.google).apply(lambda x: x.lng)\n",
    "lat_of_parks = address_of_parks.apply(geocoder.google).apply(lambda x: x.lat)\n",
    "name_of_parks = bal_parks['park.name']\n",
    "\n",
    "df=pd.concat([address_of_parks, long_parks, lat_of_parks, name_of_parks], axis=1)\n",
    "\n",
    "\n",
    "#print(df)\n",
    "# df.to_csv(\"coordinates_of_BalParks_take2.csv\")"
   ]
  },
  {
   "cell_type": "code",
   "execution_count": 60,
   "metadata": {},
   "outputs": [
    {
     "name": "stdout",
     "output_type": "stream",
     "text": [
      "                                                    0          1          2  \\\n",
      "0                      2501 Madison Ave Baltimore MD  -76.638523  39.313732   \n",
      "1                          617 Baker St Baltimore MD  -76.640977  39.307631   \n",
      "2            E 25th St & Greenmount Ave Baltimore MD  -76.609453        NaN   \n",
      "3                     414 Old Town Mall Baltimore MD  -76.605556  39.295181   \n",
      "4                     414 Old Town Mall Baltimore MD         NaN  39.295181   \n",
      "5                   2900 Greenmount Ave Baltimore MD  -76.609707  39.323592   \n",
      "6                         324 E 25th St Baltimore MD         NaN  39.318287   \n",
      "7                   2900 Greenmount Ave Baltimore MD  -76.609707  39.323592   \n",
      "8                   2900 Greenmount Ave Baltimore MD         NaN        NaN   \n",
      "9                         E 33rd Street Baltimore MD  -76.602951  39.328496   \n",
      "10  333 W Camden St, Baltimore, MD 21201 Baltimore... -76.619919  39.284036   \n",
      "\n",
      "                      park.name  \n",
      "0        Madison Avenue Grounds  \n",
      "1                Newington Park  \n",
      "2                 Oriole Park I  \n",
      "3                    Belair Lot  \n",
      "4               Monumental Park  \n",
      "5                Oriole Park II  \n",
      "6               Oriole Park III  \n",
      "7                Oriole Park IV  \n",
      "8                 Terrapin Park  \n",
      "9              Memorial Stadium  \n",
      "10  Oriole Park at Camden Yards  \n"
     ]
    }
   ],
   "source": [
    "print(df)\n"
   ]
  },
  {
   "cell_type": "code",
   "execution_count": 61,
   "metadata": {},
   "outputs": [],
   "source": [
    "df.to_csv(\"coordinates_of_BalParks_take2.csv\")"
   ]
  },
  {
   "cell_type": "code",
   "execution_count": 62,
   "metadata": {},
   "outputs": [
    {
     "name": "stdout",
     "output_type": "stream",
     "text": [
      "    Unnamed: 0                                                  0          1  \\\n",
      "0            0                     2501 Madison Ave Baltimore MD  -76.638523   \n",
      "1            1                         617 Baker St Baltimore MD  -76.640977   \n",
      "2            2           E 25th St & Greenmount Ave Baltimore MD  -76.609453   \n",
      "3            3                    414 Old Town Mall Baltimore MD  -76.605556   \n",
      "4            4                    414 Old Town Mall Baltimore MD         NaN   \n",
      "5            5                  2900 Greenmount Ave Baltimore MD  -76.609707   \n",
      "6            6                        324 E 25th St Baltimore MD         NaN   \n",
      "7            7                  2900 Greenmount Ave Baltimore MD  -76.609707   \n",
      "8            8                  2900 Greenmount Ave Baltimore MD         NaN   \n",
      "9            9                        E 33rd Street Baltimore MD  -76.602951   \n",
      "10          10  333 W Camden St, Baltimore, MD 21201 Baltimore... -76.619919   \n",
      "\n",
      "            2                    park.name  \n",
      "0   39.313732       Madison Avenue Grounds  \n",
      "1   39.307631               Newington Park  \n",
      "2         NaN                Oriole Park I  \n",
      "3   39.295181                   Belair Lot  \n",
      "4   39.295181              Monumental Park  \n",
      "5   39.323592               Oriole Park II  \n",
      "6   39.318287              Oriole Park III  \n",
      "7   39.323592               Oriole Park IV  \n",
      "8         NaN                Terrapin Park  \n",
      "9   39.328496             Memorial Stadium  \n",
      "10  39.284036  Oriole Park at Camden Yards  \n"
     ]
    }
   ],
   "source": [
    "geo_parks = pd.read_csv(\"coordinates_of_BalParks_take2.csv\")\n",
    "\n",
    "print(geo_parks)\n"
   ]
  },
  {
   "cell_type": "code",
   "execution_count": 63,
   "metadata": {},
   "outputs": [
    {
     "name": "stdout",
     "output_type": "stream",
     "text": [
      "    ind                                            address       long  \\\n",
      "0     0                     2501 Madison Ave Baltimore MD  -76.638523   \n",
      "1     1                         617 Baker St Baltimore MD  -76.640977   \n",
      "2     2           E 25th St & Greenmount Ave Baltimore MD  -76.609453   \n",
      "3     3                    414 Old Town Mall Baltimore MD  -76.605556   \n",
      "4     4                    414 Old Town Mall Baltimore MD         NaN   \n",
      "5     5                  2900 Greenmount Ave Baltimore MD  -76.609707   \n",
      "6     6                        324 E 25th St Baltimore MD         NaN   \n",
      "7     7                  2900 Greenmount Ave Baltimore MD  -76.609707   \n",
      "8     8                  2900 Greenmount Ave Baltimore MD         NaN   \n",
      "9     9                        E 33rd Street Baltimore MD  -76.602951   \n",
      "10   10  333 W Camden St, Baltimore, MD 21201 Baltimore... -76.619919   \n",
      "\n",
      "          lat                    park_name  \n",
      "0   39.313732       Madison Avenue Grounds  \n",
      "1   39.307631               Newington Park  \n",
      "2         NaN                Oriole Park I  \n",
      "3   39.295181                   Belair Lot  \n",
      "4   39.295181              Monumental Park  \n",
      "5   39.323592               Oriole Park II  \n",
      "6   39.318287              Oriole Park III  \n",
      "7   39.323592               Oriole Park IV  \n",
      "8         NaN                Terrapin Park  \n",
      "9   39.328496             Memorial Stadium  \n",
      "10  39.284036  Oriole Park at Camden Yards  \n"
     ]
    }
   ],
   "source": [
    "#print(geo_parks.keys())\n",
    "\n",
    "geo_parks.rename(columns={'Unnamed: 0':\"ind\", '0':'address', '1':'long',\n",
    "                          '2': 'lat', 'park.name':'park_name'}, inplace=True)\n",
    "\n",
    "print(geo_parks)\n",
    "\n"
   ]
  },
  {
   "cell_type": "code",
   "execution_count": 65,
   "metadata": {},
   "outputs": [
    {
     "name": "stderr",
     "output_type": "stream",
     "text": [
      "/usr/local/lib/python3.6/site-packages/ipykernel_launcher.py:1: SettingWithCopyWarning: \n",
      "A value is trying to be set on a copy of a slice from a DataFrame\n",
      "\n",
      "See the caveats in the documentation: http://pandas.pydata.org/pandas-docs/stable/indexing.html#indexing-view-versus-copy\n",
      "  \"\"\"Entry point for launching an IPython kernel.\n",
      "/usr/local/lib/python3.6/site-packages/ipykernel_launcher.py:2: SettingWithCopyWarning: \n",
      "A value is trying to be set on a copy of a slice from a DataFrame\n",
      "\n",
      "See the caveats in the documentation: http://pandas.pydata.org/pandas-docs/stable/indexing.html#indexing-view-versus-copy\n",
      "  \n"
     ]
    },
    {
     "name": "stdout",
     "output_type": "stream",
     "text": [
      "    ind                                            address       long  \\\n",
      "0     0                     2501 Madison Ave Baltimore MD  -76.638523   \n",
      "1     1                         617 Baker St Baltimore MD  -76.640977   \n",
      "2     2           E 25th St & Greenmount Ave Baltimore MD  -76.609453   \n",
      "3     3                    414 Old Town Mall Baltimore MD  -76.605556   \n",
      "4     4                    414 Old Town Mall Baltimore MD  -76.609707   \n",
      "5     5                  2900 Greenmount Ave Baltimore MD  -76.609707   \n",
      "6     6                        324 E 25th St Baltimore MD         NaN   \n",
      "7     7                  2900 Greenmount Ave Baltimore MD  -76.609707   \n",
      "8     8                  2900 Greenmount Ave Baltimore MD  -76.609707   \n",
      "9     9                        E 33rd Street Baltimore MD  -76.602951   \n",
      "10   10  333 W Camden St, Baltimore, MD 21201 Baltimore... -76.619919   \n",
      "\n",
      "          lat                    park_name  \n",
      "0   39.313732       Madison Avenue Grounds  \n",
      "1   39.307631               Newington Park  \n",
      "2         NaN                Oriole Park I  \n",
      "3   39.295181                   Belair Lot  \n",
      "4   39.295181              Monumental Park  \n",
      "5   39.323592               Oriole Park II  \n",
      "6   39.318287              Oriole Park III  \n",
      "7   39.323592               Oriole Park IV  \n",
      "8         NaN                Terrapin Park  \n",
      "9   39.328496             Memorial Stadium  \n",
      "10  39.284036  Oriole Park at Camden Yards  \n"
     ]
    },
    {
     "name": "stderr",
     "output_type": "stream",
     "text": [
      "/usr/local/lib/python3.6/site-packages/ipykernel_launcher.py:3: SettingWithCopyWarning: \n",
      "A value is trying to be set on a copy of a slice from a DataFrame\n",
      "\n",
      "See the caveats in the documentation: http://pandas.pydata.org/pandas-docs/stable/indexing.html#indexing-view-versus-copy\n",
      "  This is separate from the ipykernel package so we can avoid doing imports until\n"
     ]
    }
   ],
   "source": [
    "geo_parks['long'][4] = geo_parks['long'][5]\n",
    "geo_parks['long'][8] = geo_parks['long'][7]\n",
    "geo_parks['long'][6] = geocoder.google(\"324 E 25th St Baltimore MD\").lng\n",
    "\n",
    "print(geo_parks)"
   ]
  },
  {
   "cell_type": "code",
   "execution_count": null,
   "metadata": {},
   "outputs": [],
   "source": [
    "for x in geo_parks['long']:\n",
    "    try:\n",
    "        x.fillna(geo_parks['geo_code'][x.loc].lng)\n",
    "    except:\n",
    "        pass"
   ]
  },
  {
   "cell_type": "code",
   "execution_count": 66,
   "metadata": {},
   "outputs": [],
   "source": [
    "geo_code = [geocoder.google(geo_parks['address'][x]) for x in range(len(geo_parks['address'])) ]\n",
    "\n",
    "geo_parks['geo_code']= geo_code\n",
    "\n"
   ]
  },
  {
   "cell_type": "code",
   "execution_count": 71,
   "metadata": {},
   "outputs": [
    {
     "name": "stdout",
     "output_type": "stream",
     "text": [
      "-76.6121064\n"
     ]
    }
   ],
   "source": [
    "print(geo_code[6].lng)"
   ]
  },
  {
   "cell_type": "code",
   "execution_count": 72,
   "metadata": {},
   "outputs": [
    {
     "name": "stderr",
     "output_type": "stream",
     "text": [
      "/usr/local/lib/python3.6/site-packages/ipykernel_launcher.py:1: SettingWithCopyWarning: \n",
      "A value is trying to be set on a copy of a slice from a DataFrame\n",
      "\n",
      "See the caveats in the documentation: http://pandas.pydata.org/pandas-docs/stable/indexing.html#indexing-view-versus-copy\n",
      "  \"\"\"Entry point for launching an IPython kernel.\n"
     ]
    }
   ],
   "source": [
    "geo_parks['long'][6] = geo_code[6].lng"
   ]
  },
  {
   "cell_type": "code",
   "execution_count": 75,
   "metadata": {},
   "outputs": [
    {
     "name": "stderr",
     "output_type": "stream",
     "text": [
      "/usr/local/lib/python3.6/site-packages/ipykernel_launcher.py:1: SettingWithCopyWarning: \n",
      "A value is trying to be set on a copy of a slice from a DataFrame\n",
      "\n",
      "See the caveats in the documentation: http://pandas.pydata.org/pandas-docs/stable/indexing.html#indexing-view-versus-copy\n",
      "  \"\"\"Entry point for launching an IPython kernel.\n",
      "/usr/local/lib/python3.6/site-packages/ipykernel_launcher.py:2: SettingWithCopyWarning: \n",
      "A value is trying to be set on a copy of a slice from a DataFrame\n",
      "\n",
      "See the caveats in the documentation: http://pandas.pydata.org/pandas-docs/stable/indexing.html#indexing-view-versus-copy\n",
      "  \n",
      "/usr/local/lib/python3.6/site-packages/ipykernel_launcher.py:3: SettingWithCopyWarning: \n",
      "A value is trying to be set on a copy of a slice from a DataFrame\n",
      "\n",
      "See the caveats in the documentation: http://pandas.pydata.org/pandas-docs/stable/indexing.html#indexing-view-versus-copy\n",
      "  This is separate from the ipykernel package so we can avoid doing imports until\n"
     ]
    }
   ],
   "source": [
    "\n",
    "geo_parks['lat'][8] = geo_parks['lat'][7]\n",
    "geo_parks['long'][8] = geo_parks['long'][7]"
   ]
  },
  {
   "cell_type": "code",
   "execution_count": 86,
   "metadata": {},
   "outputs": [
    {
     "data": {
      "text/plain": [
       "0     39.313732\n",
       "1     39.307631\n",
       "2     39.318124\n",
       "3     39.295181\n",
       "4     39.295181\n",
       "5     39.323592\n",
       "6     39.318287\n",
       "7     39.323592\n",
       "8     39.323592\n",
       "9     39.328496\n",
       "10    39.284036\n",
       "Name: lat, dtype: float64"
      ]
     },
     "execution_count": 86,
     "metadata": {},
     "output_type": "execute_result"
    }
   ],
   "source": [
    "geo_parks['lat'].fillna( geocoder.google(\" E 25th St & Greenmount Ave Baltimore MD\").lat)"
   ]
  },
  {
   "cell_type": "code",
   "execution_count": 87,
   "metadata": {},
   "outputs": [
    {
     "name": "stdout",
     "output_type": "stream",
     "text": [
      "    ind                                            address       long  \\\n",
      "0     0                     2501 Madison Ave Baltimore MD  -76.638523   \n",
      "1     1                         617 Baker St Baltimore MD  -76.640977   \n",
      "2     2           E 25th St & Greenmount Ave Baltimore MD  -76.609453   \n",
      "3     3                    414 Old Town Mall Baltimore MD  -76.605556   \n",
      "4     4                    414 Old Town Mall Baltimore MD  -76.609707   \n",
      "5     5                  2900 Greenmount Ave Baltimore MD  -76.609707   \n",
      "6     6                        324 E 25th St Baltimore MD  -76.612106   \n",
      "7     7                  2900 Greenmount Ave Baltimore MD  -76.609707   \n",
      "8     8                  2900 Greenmount Ave Baltimore MD  -76.609707   \n",
      "9     9                        E 33rd Street Baltimore MD  -76.602951   \n",
      "10   10  333 W Camden St, Baltimore, MD 21201 Baltimore... -76.619919   \n",
      "\n",
      "          lat                    park_name  \\\n",
      "0   39.313732       Madison Avenue Grounds   \n",
      "1   39.307631               Newington Park   \n",
      "2   39.318124                Oriole Park I   \n",
      "3   39.295181                   Belair Lot   \n",
      "4   39.295181              Monumental Park   \n",
      "5   39.323592               Oriole Park II   \n",
      "6   39.318287              Oriole Park III   \n",
      "7   39.323592               Oriole Park IV   \n",
      "8   39.323592                Terrapin Park   \n",
      "9   39.328496             Memorial Stadium   \n",
      "10  39.284036  Oriole Park at Camden Yards   \n",
      "\n",
      "                                             geo_code  \n",
      "0       <[OVER_QUERY_LIMIT] Google - Geocode [empty]>  \n",
      "1          [[617 Baker St, Baltimore, MD 21217, USA]]  \n",
      "2       <[OVER_QUERY_LIMIT] Google - Geocode [empty]>  \n",
      "3     [[414 Old Town Mall, Baltimore, MD 21202, USA]]  \n",
      "4     [[414 Old Town Mall, Baltimore, MD 21202, USA]]  \n",
      "5   [[2900 Greenmount Ave, Baltimore, MD 21218, USA]]  \n",
      "6         [[324 E 25th St, Baltimore, MD 21218, USA]]  \n",
      "7   [[2900 Greenmount Ave, Baltimore, MD 21218, USA]]  \n",
      "8       <[OVER_QUERY_LIMIT] Google - Geocode [empty]>  \n",
      "9             [[E 33rd St, Baltimore, MD 21218, USA]]  \n",
      "10      <[OVER_QUERY_LIMIT] Google - Geocode [empty]>  \n"
     ]
    }
   ],
   "source": [
    "print(geo_parks)"
   ]
  },
  {
   "cell_type": "code",
   "execution_count": 90,
   "metadata": {},
   "outputs": [
    {
     "data": {
      "text/html": [
       "<div>\n",
       "<style scoped>\n",
       "    .dataframe tbody tr th:only-of-type {\n",
       "        vertical-align: middle;\n",
       "    }\n",
       "\n",
       "    .dataframe tbody tr th {\n",
       "        vertical-align: top;\n",
       "    }\n",
       "\n",
       "    .dataframe thead th {\n",
       "        text-align: right;\n",
       "    }\n",
       "</style>\n",
       "<table border=\"1\" class=\"dataframe\">\n",
       "  <thead>\n",
       "    <tr style=\"text-align: right;\">\n",
       "      <th></th>\n",
       "      <th>ind</th>\n",
       "      <th>address</th>\n",
       "      <th>long</th>\n",
       "      <th>lat</th>\n",
       "      <th>park_name</th>\n",
       "    </tr>\n",
       "  </thead>\n",
       "  <tbody>\n",
       "    <tr>\n",
       "      <th>0</th>\n",
       "      <td>0</td>\n",
       "      <td>2501 Madison Ave Baltimore MD</td>\n",
       "      <td>-76.638523</td>\n",
       "      <td>39.313732</td>\n",
       "      <td>Madison Avenue Grounds</td>\n",
       "    </tr>\n",
       "    <tr>\n",
       "      <th>1</th>\n",
       "      <td>1</td>\n",
       "      <td>617 Baker St Baltimore MD</td>\n",
       "      <td>-76.640977</td>\n",
       "      <td>39.307631</td>\n",
       "      <td>Newington Park</td>\n",
       "    </tr>\n",
       "    <tr>\n",
       "      <th>2</th>\n",
       "      <td>2</td>\n",
       "      <td>E 25th St &amp; Greenmount Ave Baltimore MD</td>\n",
       "      <td>-76.609453</td>\n",
       "      <td>39.318124</td>\n",
       "      <td>Oriole Park I</td>\n",
       "    </tr>\n",
       "    <tr>\n",
       "      <th>3</th>\n",
       "      <td>3</td>\n",
       "      <td>414 Old Town Mall Baltimore MD</td>\n",
       "      <td>-76.605556</td>\n",
       "      <td>39.295181</td>\n",
       "      <td>Belair Lot</td>\n",
       "    </tr>\n",
       "    <tr>\n",
       "      <th>4</th>\n",
       "      <td>4</td>\n",
       "      <td>414 Old Town Mall Baltimore MD</td>\n",
       "      <td>-76.609707</td>\n",
       "      <td>39.295181</td>\n",
       "      <td>Monumental Park</td>\n",
       "    </tr>\n",
       "    <tr>\n",
       "      <th>5</th>\n",
       "      <td>5</td>\n",
       "      <td>2900 Greenmount Ave Baltimore MD</td>\n",
       "      <td>-76.609707</td>\n",
       "      <td>39.323592</td>\n",
       "      <td>Oriole Park II</td>\n",
       "    </tr>\n",
       "    <tr>\n",
       "      <th>6</th>\n",
       "      <td>6</td>\n",
       "      <td>324 E 25th St Baltimore MD</td>\n",
       "      <td>-76.612106</td>\n",
       "      <td>39.318287</td>\n",
       "      <td>Oriole Park III</td>\n",
       "    </tr>\n",
       "    <tr>\n",
       "      <th>7</th>\n",
       "      <td>7</td>\n",
       "      <td>2900 Greenmount Ave Baltimore MD</td>\n",
       "      <td>-76.609707</td>\n",
       "      <td>39.323592</td>\n",
       "      <td>Oriole Park IV</td>\n",
       "    </tr>\n",
       "    <tr>\n",
       "      <th>8</th>\n",
       "      <td>8</td>\n",
       "      <td>2900 Greenmount Ave Baltimore MD</td>\n",
       "      <td>-76.609707</td>\n",
       "      <td>39.323592</td>\n",
       "      <td>Terrapin Park</td>\n",
       "    </tr>\n",
       "    <tr>\n",
       "      <th>9</th>\n",
       "      <td>9</td>\n",
       "      <td>E 33rd Street Baltimore MD</td>\n",
       "      <td>-76.602951</td>\n",
       "      <td>39.328496</td>\n",
       "      <td>Memorial Stadium</td>\n",
       "    </tr>\n",
       "    <tr>\n",
       "      <th>10</th>\n",
       "      <td>10</td>\n",
       "      <td>333 W Camden St, Baltimore, MD 21201 Baltimore...</td>\n",
       "      <td>-76.619919</td>\n",
       "      <td>39.284036</td>\n",
       "      <td>Oriole Park at Camden Yards</td>\n",
       "    </tr>\n",
       "  </tbody>\n",
       "</table>\n",
       "</div>"
      ],
      "text/plain": [
       "    ind                                            address       long  \\\n",
       "0     0                     2501 Madison Ave Baltimore MD  -76.638523   \n",
       "1     1                         617 Baker St Baltimore MD  -76.640977   \n",
       "2     2           E 25th St & Greenmount Ave Baltimore MD  -76.609453   \n",
       "3     3                    414 Old Town Mall Baltimore MD  -76.605556   \n",
       "4     4                    414 Old Town Mall Baltimore MD  -76.609707   \n",
       "5     5                  2900 Greenmount Ave Baltimore MD  -76.609707   \n",
       "6     6                        324 E 25th St Baltimore MD  -76.612106   \n",
       "7     7                  2900 Greenmount Ave Baltimore MD  -76.609707   \n",
       "8     8                  2900 Greenmount Ave Baltimore MD  -76.609707   \n",
       "9     9                        E 33rd Street Baltimore MD  -76.602951   \n",
       "10   10  333 W Camden St, Baltimore, MD 21201 Baltimore... -76.619919   \n",
       "\n",
       "          lat                    park_name  \n",
       "0   39.313732       Madison Avenue Grounds  \n",
       "1   39.307631               Newington Park  \n",
       "2   39.318124                Oriole Park I  \n",
       "3   39.295181                   Belair Lot  \n",
       "4   39.295181              Monumental Park  \n",
       "5   39.323592               Oriole Park II  \n",
       "6   39.318287              Oriole Park III  \n",
       "7   39.323592               Oriole Park IV  \n",
       "8   39.323592                Terrapin Park  \n",
       "9   39.328496             Memorial Stadium  \n",
       "10  39.284036  Oriole Park at Camden Yards  "
      ]
     },
     "execution_count": 90,
     "metadata": {},
     "output_type": "execute_result"
    }
   ],
   "source": [
    "geo_parks.drop(columns=['geo_code'])"
   ]
  },
  {
   "cell_type": "code",
   "execution_count": 91,
   "metadata": {},
   "outputs": [],
   "source": [
    "geo_parks.to_csv(\"BalParks_coordinates2.csv\")"
   ]
  },
  {
   "cell_type": "code",
   "execution_count": null,
   "metadata": {},
   "outputs": [],
   "source": []
  }
 ],
 "metadata": {
  "kernelspec": {
   "display_name": "Python 3",
   "language": "python",
   "name": "python3"
  },
  "language_info": {
   "codemirror_mode": {
    "name": "ipython",
    "version": 3
   },
   "file_extension": ".py",
   "mimetype": "text/x-python",
   "name": "python",
   "nbconvert_exporter": "python",
   "pygments_lexer": "ipython3",
   "version": "3.6.5"
  }
 },
 "nbformat": 4,
 "nbformat_minor": 2
}
